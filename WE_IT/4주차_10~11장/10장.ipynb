{
 "cells": [
  {
   "cell_type": "markdown",
   "metadata": {},
   "source": [
    "## 텍스트 마이닝"
   ]
  },
  {
   "cell_type": "markdown",
   "metadata": {},
   "source": [
    "### txt format 텍스트 마이닝"
   ]
  },
  {
   "cell_type": "markdown",
   "metadata": {},
   "source": [
    "- 연설문 텍스트file 불러오기"
   ]
  },
  {
   "cell_type": "code",
   "execution_count": 23,
   "metadata": {},
   "outputs": [],
   "source": [
    "speech=open('../Data/speech_moon.txt',encoding='UTF-8').read()"
   ]
  },
  {
   "cell_type": "markdown",
   "metadata": {},
   "source": [
    "- 한글만 나오게 전처리"
   ]
  },
  {
   "cell_type": "code",
   "execution_count": 24,
   "metadata": {},
   "outputs": [
    {
     "data": {
      "text/plain": [
       "'정권교체 하겠습니다    정치교체 하겠습니다    시대교체 하겠습니다        불비불명       이라는 고사가 있습니다  남쪽 언덕 나뭇가지에 앉아   년 동안 날지도 울지도 않는 새  그러나 그 새는 한번 날면 하늘 끝까지 날고  한번 울면 천지를 뒤흔듭니다   그 동안 정치와 거리를 둬 왔습니다  그러나 암울한 시대가 저를 정치로 불러냈습니다  더 이상 남쪽 나뭇가지에 머무를 수 없었습니다  이제 저는 국민과 함께 높이 날고 크게 울겠습니다  오늘 저는 제  대 대통령선거 출마를 국민 앞에 엄숙히 선언합니다     우리나라 대통령 이 되겠습니다    존경하는 국민 여러분       저는 대통령이 되겠습니다  우리나라 대통령이 되겠습니다  소수 특권층의 나라가 아니라 보통사람들이 주인인  우리나라   네 편 내 편 편가르지 않고 함께 가는 우리나라   우리 라는 말이 조금도 부끄럽지 않은  진정한  우리나라 의 대통령이 되겠습니다   지금까지 우리 보통사람들은 날지도 울지도 못하는 새였습니다  나라의 주인으로 행세하지 못했고  주인으로 대접받지 못했습니다  나서서 말도 하지 못했습니다  이제 몸을 일으켜 날아야 합니다  당당하게 말하고 정치에 참여해야 합니다   제가 추구하는  우리나라 는 정치인에게 맡겨놓는 나라가 아니라 시민이 직접 정치와 정책과정에 참여하는 나라입니다  저는 시민과 동행하는 정치를 하고 싶습니다  제가 추구하는  우리나라 는 특권과 불평등의 나라가 아니라  보통사람들이 함께 기회를 가지는 공평하고 정의로운 나라입니다   이제 권력과 돈을 가진 집단이 나라를 그들 마음대로 움직이던 시대는 끝났습니다  힘없는 사람들에게 끝없이 희생을 강요하던 낡은 경제  낡은 정치  낡은 권력도 모두 끝났습니다  오늘 저 문재인은 우리나라를 우리 모두의 나라로 선언합니다   국민이 모두 아픕니다   제가 높이 날고 크게 울겠다고 결심한 이유는 보통사람들의 삶이 너무 고달프고  우리가 처한 현실이 너무도 엄중하기 때문입니다  근본적인 혁신  거대한 전환 없이는 나라가 무너지겠구나 하는 절박함 때문입니다   지금 우리의 삶은 어떻습니까  우리 사회는 더 이상 경제성장의 과실을 나눠 갖지 않습니다  소수의 부유층과 대기업의 창고는 황금으로 가득 차지만  대부분 보통사람들은 취업불안  주거불안  고용불안  건강불안  노후불안 등 불안을 이불처럼 덮고 매일 잠자리에 들어야 합니다   국민 한 사람 한 사람이 모두 아픕니다  빚 갚기 힘들어서  아이 키우기 힘들어서  일자리가 보이지 않아서 아픕니다  입시부담과 성적스트레스 그리고 학교폭력에 상처받은 어린 영혼들은 그 아픔을 견디지 못하고 하나 둘 우리 곁을 떠나고 있습니다  어르신들도 삶이 힘겨워서 스스로 세상을 버리는 분이 많습니다  왜 이렇게 아픈 일들이 계속 일어날까요  약자의 고통에 관심 없는 정부  부자와 강자의 기득권 지켜주기에 급급한 정치가 사람들에게서 희망을 앗아가 버렸기 때문입니다  지금 길거리는 표정 없는 사람들로 넘쳐납니다  국민들에게 희망을 주는 정치가 절실하게 필요합니다   국민의 뜻이 대통령의 길입니다   저는 대선출마를 결심하고 국민 여러분께 출마선언문을 함께 쓰자고 제안 드렸습니다  많은 분들이 글을 주셨습니다  소중한 의견과 제안을 보내 주셨습니다  고단하고 힘겨운 삶이 거기에 있었습니다  시민의 한숨과 눈물을 닦아주지 못하는 정치가 있었고  오히려 국민의 걱정거리가 된 초라한 정부의 모습도 있었습니다   상식이 통하는 사회  권한과 책임이 비례하는 사회  다름을 인정하는 세상  개천에서 용이 날 수 있는 사회  철학이 있는 나라  약자의 얘기에 귀를 기울이고  어려운 사람에게 진심어린 위로를 건네는 세상  세금이 제대로 쓰이는 나라  힘없는 사람에게 관대하고 힘 있는 사람에게 엄격한 잣대가 적용되는 사회  국민들이 기대고 의지할 수 있도록 어깨를 내어주는 대통령  국민에게 부끄럽지 않은 정부를 만들어 달라는 것이 국민의 요구였습니다   미안했습니다  가슴 아팠습니다  지극히 평범하고 상식적인 요구였지만  이 소박한 요구를 정치가 외면해 왔던 것입니다   국가비전  많이 공부하고 많이 고민했습니다  그러나 거창하게만 들리는 이 국가비전 역시 국민의 마음속에 있었습니다  더욱 낮아지고 겸손해져서 국민의 마음속으로 들어가라  길이 보일 것이다  그것이 대통령의 길이다  국민들이 제게 준 가르침입니다  국민의 뜻에서 대통령의 길을 찾겠습니다  대한민국의 길을 찾겠습니다   새로운 대한민국을 만들겠습니다  지금 우리는  거대한 전환 의 시기를 맞고 있습니다  기존의 사고  과거의 낡은 방식으로는 해결할 수 없는 근본적인 문제들이 우리 앞에 놓여 있습니다  지금까지 우리 사회를 지배해왔던  경쟁    승자독식    강자지배 의 원리로는 빈부격차의 확대  중산층과 서민들의 삶의 기반 붕괴  중소기업과 자영업자들의 고통  지역경제의 낙후  경제성장의 잠재력 약화라는 악순환에서 빠져나올 길이 없습니다   더구나 지금 유럽  미국  중국  인도 등 세계 곳곳에서 경제위기가 고조되고 있습니다  무분별한 시장만능주의가 빚어낸 결과입니다  일부에서는 기존 자본주의 모델의 수명이 다했다는 진단을 내놓기도 합니다  이런 흐름은 과도한 대외의존형 경제와 취약한 사회안전망을 지닌 대한민국에게 더 큰 위기가 되고 있습니다  무엇보다도 우리는 개발독재 모델의 유산을 청산해야 합니다  시장만능주의로 대표되는 시장독재 모델도 극복해야 합니다  개방  공유  협동  공생의 새로운 원리를 채택해 인간이 인간답게 살 수 있는 민주적이고 공정한 시장경제 모델을 만들어야 합니다   운 좋게 부자 집안에서 태어났다고 평생을 앞서가고  가난한 집 자녀들은 출발선부터 한참 뒤처진다면 참으로 불공평한 경쟁입니다  그것이 교육이든  비정규직이든  중소기업이든  지방 산업이든 공정하게 경쟁하고 노력한 만큼 정당한 보상을 받는 세상이 돼야 합니다  지방대학을 나와도  고등학교만 나와도 실력대로 대접받을 수 있어야 합니다  누구나 공정하게 경쟁하고 그 결과에 승복해야 하며  패자에게는 따뜻한 위로와 패자부활의 기회가 주어져야 합니다   지나친 경쟁과 소외  양극화의 살벌한 세상 대신 사람들이 서로 믿고 협력하여 함께 더 큰 성장을 이루는 나라  그리고 그 결과를 공유하여 지속가능한 삶의 토대를 만드는 나라가 제가 꿈꾸는 나라입니다  북한과도 신뢰와 협력의 토대 위에 평화와 공동번영을 이루는 나라가 제가 꿈꾸는 나라입니다  저는 이 두 가지의 비전을 합쳐  상생과 평화의 새로운 대한민국 이라 부르고자 합니다   상생과 평화의 대한민국은 공평과 정의에 바탕을 두고  성장의 과실을 함께 누리는 나라  복지가 강한 나라  일자리를 최우선에 두는 나라  아이들 여성 노인이 행복한 나라  안전하고 평화로운 나라가 될 것입니다      공평과 정의를 나라의 근간으로 삼겠습니다  승자독식과 강자지배의 낡은 질서를 폐기하고 대한민국에 상생과 평화의 새 질서를 수립하기 위해  저는 먼저 공평과 정의의 원칙을 분명히 세우겠습니다  이명박 정권은 입으로는 공정사회를 부르짖었지만 실제로는 측근세력들이 국가권력을 사유화하고 공공성을 파괴했고  토건세력과 재벌집단  그리고 최상위 계층에게 이익을 과도하게 몰아줌으로써 공정이라는 말 자체를 냉소거리로 만들고 말았습니다  이래서는 신뢰와 상생의 사회가 불가능합니다   저는 모든 시민들에게 균등한 기회를 제공하는  공평 과  반칙과 특권  부정부패를 척결하는  정의   이 두 가지 가치를 근간으로 새로운 대한민국을 만들어나가겠습니다  정의의 원칙은 특히 경제 분야에서 더 강조되어야 합니다  조세정의를 실현하여 소득 있는 곳에 세금 있다는 원칙이 흔들리지 않아야 합니다  세금 없는 불로소득이 있어서는 안 됩니다  정치민주화와 더불어 경제민주화가 절실히 필요합니다  재벌의 지배구조를 개선하고 공정거래질서를 확립해야 합니다  대기업과 중소기업 간의 힘의 불균형을 바로잡아 약자가 억울하게 당하는 것을 막아야 합니다   노사는 한 배를 탄 공동운명체입니다  노동자들이 부당하게 해고되고 권익이 부당하게 침해당하는 일은 없어야 합니다  노동자들의 목소리가 적극적으로 경영에 반영될 때 기업 성과는 더욱 개선됩니다  그리하여 소수의 강자가 다수 위에 군림하지 않고  약자와 강자가 공존 상생하는 경제 질서를 만드는 것이 경제민주화의 주요 내용이 돼야 합니다       대 성장전략으로 획기적 국가발전을 이루겠습니다   선성장 후분배  낙수효과 같은 낡은 생각이 사회적 양극화와 성장잠재력 저하라는 아픈 결과를 낳았습니다  이를 극복하기 위해 성장과 분배  환경과 평화가 역동적 선순환을 이루는  대 성장전략을 추진하겠습니다   첫째  분배와 재분배를 강화하여 중산층과 서민들의 유효수요와 구매력을 확대함으로써  소비와 투자를 촉진하는  포용적 성장 을 추진하겠습니다  이를 위해 최저임금을 높이고 생활임금 개념을 정책에 반영하겠습니다  복지투자 확대도 서민경제 활성화로 이어질 것입니다  또한 재벌과 거대기업의 과도한 경제력 집중을 억제하고  고용의 대부분을 감당하는 중소기업이 성장의 중심에 서도록 지원하겠습니다  사회적 기업과 협동조합을 육성하는 등 사회적 경제를 확대하여 포용적 성장을 이루기 위한 거시구조적 개혁도 추진해 나가겠습니다   둘째  인적 자본에 대한 투자를 강화하여 사람 중심의 경제성장을 실현하겠습니다  교육혁신을 통해 학생들과 학부모의 고통을 줄이고 입시를 위한 과잉 학습 대신 평생학습체제가 자리 잡도록 일대 교육혁신을 해내겠습니다  문화혁신을 통해 모든 국민의 창조성을 높이고 이를 통해 기술혁신과 신산업 형성의 역동적 파동을 일으키는  창조적 성장 을 추진하겠습니다   셋째  석유시대의 종말에 대비하여 신재생 에너지의 비중을 대폭 확대하고  녹색 에너지기술  건축  전기자동차 제조 등 여러 영역에서 신산업을 육성하는  생태적 성장 을 추진하겠습니다  추가 원전 건설을 중단하고 수명이 다된 원전은 가동을 중지시키겠습니다  그리고 신재생 에너지의 비중이 확대되는 만큼 원전의 비중을 줄여나가겠습니다  이는 단순히 에너지 종류를 바꾸거나 아끼는 정도가 아니라  산업과 소비생활 전반의 구조를 바꾸는 제 차 산업혁명이라 할 수 있는 변화입니다  이를 위해 토건사업  개발사업이 늘 우위에 있었던 정부구조와 재정지출 구조도 혁신하겠습니다  산업 환경 농림 국토 등 여러 부처를 지속가능성의 가치 아래 재편해 나가겠습니다   넷째  인터넷과    를 통해 전세계로 확산되고 있는 소통 네트워크를 기반으로 국경과 경쟁을 넘어 집단협업  개방형 혁신  협동생태계를 활용하는  협력적 성장 을 추진하겠습니다  이런 새로운 인식 아래  한반도평화와 남북협력을 강력한 성장동력으로 활용하겠습니다  남북한은 자원  기술  인력 등 많은 점에서 탁월한 보완관계입니다  평화를 바탕으로 서로의 강점을 엮어 동북아시아로  또 세계로 함께 진출해야 합니다       강한 복지국가 를 향해 담대하게 나아가겠습니다   정조대왕은  위에서 손해를 보고 아래가 이득이 되게 하라        그것이 국가가 할 일이다  라고 말했습니다   백 년 전 이와 같은 소득재분배  복지국가의 사상을 가진 위정자가 지구상 어디에 또 있었겠습니까  이제 우리는 복지국가를 향해 담대하게 나아갈 때입니다  늦었기 때문에 더욱 발걸음을 재촉해야 합니다    복지가 포퓰리즘 이라는 새누리당의 중상모략을 거부합니다  부자감세   대강 사업 같은 시대착오적 과오를 청산하고  하루빨리 복지국가로 가야 합니다  우리는 지금 복지국가로 가느냐  양극화의 분열된 국가로 가느냐 하는 절박한 싸움을 벌이고 있습니다  나라의 운명이 달린 이 건곤일척의 싸움은 복지에 진정성을 가진 진보세력만이 이길 수 있습니다   복지는 낭비가 아니고 투자입니다  사람에 대한 투자이며  동시에 강력한 성장전략이기도 합니다  강한 복지국가일수록 국가 경쟁력도 더 높습니다  복지의 확대를 통해 보육  교육  의료  요양 등 사회서비스 부문에 수많은 일자리가 생기고  자영업에 몰려 있는 과잉인력을 흡수할 수 있습니다  공공임대주택과 같은 주거복지를 늘리는 것은 가장 좋은 전월세 대책입니다   결국 복지국가로 가는 길은 사람에 대한 투자  일자리 창출  자영업 고통 경감  삶의 질 향상 등  석  조의 효과를 만나는 길입니다  우리는 과감히 강한 보편적 복지국가로 가야 합니다  이렇게 하면 국민의 살림이 서서히 나아질 것이며  년 뒤에는 큰 성과가 나타날 것입니다       일자리 정부 로  일자리 혁명 을 이루겠습니다   복지의 확대와 함께 저는 강력한  일자리 혁명 을 이루고자 합니다  지금 너무나 많은 젊은이들과 실업자  비정규직 종사자  근로능력이 있는 고령자들이 일할 수 있는 기회와 더 좋은 일자리를 요구하고 있습니다   좋은 일자리 창출을 위해 비정규직의 정규직 전환 촉진  비정규직에 대한 차별철폐  근로시간 단축을 통한 신규고용 확대  고용영향평가제도의 채택  고용증진과 기업지원의 연계 등을 중요한 정책수단으로 채택하겠습니다  또한 정보통신 산업  바이오산업  나노 산업  신재생에너지 산업  문화산업과 콘텐츠산업 등 신산업을 크게 일으켜 일자리를 대대적으로 만들겠습니다  그리고 앞에서 말한 보육  교육  의료  복지 등 사회서비스 부문은 무궁무진한 잠재적 일자리의 보고입니다  일자리 없는 곳에서 희망을 찾을 수 없습니다  지방 일자리에 대해 특별한 노력을 기울이겠습니다  지역균형발전은 곧 산업 균형  일자리 균형이 목표입니다  이명박 정부의 방해에도 불구하고 끝내 국민이 지켜준 세종시  혁신도시를 지방 일자리 창출의 거점으로 만들겠습니다  공기업과 공무원의 지역우대 채용  각종 정부 지원의 지방채용 연동제를 확대하겠습니다  이 모든 정책의 실효성을 담보하기 위해 대통령이 되면 저는 가장 먼저 대통령 직속으로  국가일자리위원회 를 설치하고 매달  일자리점검 범정부회의 를 개최하여 일자리 마련 상황을 점검  독려하겠습니다  저는 먼 훗날  일자리 혁명을 일으킨 대통령 으로 평가받기를 희망합니다      아이들과 여성  그리고 노인들이 활짝 웃는 나라를 만들겠습니다   아이들이 행복한 나라를 만들어야 합니다  행복한 교육  즐거운 학교를 만드는 것이 교육혁신의 기본방향이어야 합니다  이를 위해 유아  초등단계의 과도한 학습 부담을 없애고 특기적성 이외의 사교육을 최대한 줄여 나가겠습니다   교육이 이념의 전장이 되어서는 곤란합니다  교육은 진보도 보수도 아닌 아이들을 위해 존재해야 합니다  학생  교사  학교의 자율성  창의성을 보장하고 마을이 아이를 함께 키울 수 있도록 지원하겠습니다  또한 좋은 일자리와 산업혁신을 위해서는 평생학습체제가 뒷받침되어야 합니다  평생학습 참가율을 선진국 수준으로 끌어올리겠습니다   지금 우리가 누리는 풍요는 모두 어르신들의 희생 덕분입니다  그러나 어르신들은 노후대비를 할 겨를도 없이  급격한 가족구조 변화와 노동시장 변화로 극심한 어려움을 겪고 있습니다  이제 사회가 효도하겠습니다  참여정부가 도입했던 기초노령연금  장기요양보험을 대폭 강화하고  건강지원 방법을 새로운 차원으로 개선하겠습니다  노인 일자리를 늘리고  특히 그 연륜과 경험을 지역사회에 활용할 수 있는 방안도 마련하겠습니다   남녀의 실질적 평등을 위해서도 아직 남은 숙제가 많습니다  가사와 육아  노인을 돌보는 책임은 여전히 여성들에게만 맡겨져 있습니다       수준에 훨씬 못 미치는 여성 경제활동 참가율이나 세계 최저의 출산율은 대한민국의 여성들이 얼마나 힘들게 살고 있는지 잘 말해줍니다   가족 돌봄의 공적서비스를 확대해서 여성의 부담을 줄이겠습니다  취업과 승진기회의 제한 등 사회적 차별을 해소할 수 있는 적극적 대책도 만들겠습니다  남녀가 함께 일하고  함께 돌보는 사회로 전진하겠습니다      대한민국은 강하게  한반도는 평화롭게 만들겠습니다   국가의 존립과 국토방위는 헌법상 대통령에게 주어진 가장 막중한 의무입니다  모든 대외정책의 출발은 튼튼한 국방력입니다  대한민국 군을 강하고 유능한 군대로 만들겠습니다  미국과의 관계를 더욱 건강하고 바람직한 관계로 발전시키겠습니다  중국과 일본  러시아 등 주변국들과도 호혜협력 관계를 더욱 강화해 나가겠습니다   전쟁의 불안에서 한반도를 해방시키겠습니다  이명박 정부가 파탄에 빠뜨린 안보를 바로 세우겠습니다  새누리당 정권 아래서 분쟁과 대결로 얼룩졌던 휴전선과     일대를 평화경제 지대로 만들겠습니다  김대중 대통령의      공동선언과 노무현 대통령의      남북정상선언을 남북 양측이 책임 있게 지키고 이행하도록 하겠습니다  개성공단을 확장하고 금강산 관광을 재개하여 금강산과 설악산  평창을 연결하는 국제관광특구를 만들어 적극 키우겠습니다  남북 군사대결지대를 공동이익을 창출하는 경제지대로 전환하여 부모들이 안심하고 자식을 군대 보내는 안보환경을 만들겠습니다  특권층의 군대 안가기를 철저하게 막는 한편 젊은이들의 병역 부담을 줄여나가겠습니다  사병의 복지도 크게 향상시키겠습니다   북핵문제를 평화적으로 해결하고 한반도 평화체제를 구축하겠습니다  저는 북한의 핵을 용인할 수 없다는 확고한 입장을 가지고 있습니다  대화와 협상을 통해 반드시 핵을 포기하도록 만들겠습니다  실종된  자회담을 재개하고 대한민국의 주도적 역할을 복원하겠습니다   자회담과 남북관계 복원  평화체제 구축작업을 병행 추진하여 한반도에 평화와 공동번영의 선순환 구조를 만들어 나가겠습니다  그리고 그 속에서 새로운 성장동력을 찾겠습니다   순국선열과 민주영령 앞에서 약속드립니다   존경하는 국민 여러분  이 자리는 애국  민주  헌신이라는 세 가지 가치가 살아 숨 쉬는 역사의 현장입니다  저는 역사가 보는 앞에서 대통령 출마선언을 함으로써  역사 앞에 제 자신을 바치겠다는 결연한 의지를 밝힙니다  역사를 가슴에 새기고 미래를 향해 뚜벅뚜벅 걸어가겠다는 의지를 밝힙니다   저것은 넘을 수 없는 벽이라고 고개를 떨구고 있을 때 담쟁이 잎 하나는 담쟁이 잎 수천 개를 이끌고 결국 그 벽을 넘는다     도종환  담쟁이       도종환 시인의  담쟁이 라는 시의 일부입니다  우리 모두 담쟁이처럼 서로 두 손 꽉 잡고 벽을 넘읍시다  특권의 벽  차별의 벽  분단과 분열의 벽  패배주의의 벽을 넘읍시다  저 문재인과 함께 새로운 세상의 문을 엽시다   저 문재인은 겸손한 권력  따뜻한 나라를 만들겠습니다  국민의 마음에서 길을 찾는 우리나라 대통령이 되겠습니다  우리 모두가 주인인 진정한 우리나라 대통령이 되겠습니다   대단히 고맙습니다  '"
      ]
     },
     "execution_count": 24,
     "metadata": {},
     "output_type": "execute_result"
    }
   ],
   "source": [
    "import re\n",
    "speech = re.sub('[^가-힣]', ' ', speech)\n",
    "speech"
   ]
  },
  {
   "cell_type": "markdown",
   "metadata": {},
   "source": [
    "- 명사 추출"
   ]
  },
  {
   "cell_type": "code",
   "execution_count": 25,
   "metadata": {},
   "outputs": [
    {
     "data": {
      "text/plain": [
       "list"
      ]
     },
     "execution_count": 25,
     "metadata": {},
     "output_type": "execute_result"
    }
   ],
   "source": [
    "import konlpy\n",
    "hannanum = konlpy.tag.Hannanum()\n",
    "nouns = hannanum.nouns(speech)\n",
    "type(nouns)"
   ]
  },
  {
   "cell_type": "code",
   "execution_count": 26,
   "metadata": {},
   "outputs": [
    {
     "data": {
      "text/html": [
       "<div>\n",
       "<style scoped>\n",
       "    .dataframe tbody tr th:only-of-type {\n",
       "        vertical-align: middle;\n",
       "    }\n",
       "\n",
       "    .dataframe tbody tr th {\n",
       "        vertical-align: top;\n",
       "    }\n",
       "\n",
       "    .dataframe thead th {\n",
       "        text-align: right;\n",
       "    }\n",
       "</style>\n",
       "<table border=\"1\" class=\"dataframe\">\n",
       "  <thead>\n",
       "    <tr style=\"text-align: right;\">\n",
       "      <th></th>\n",
       "      <th>word</th>\n",
       "    </tr>\n",
       "  </thead>\n",
       "  <tbody>\n",
       "    <tr>\n",
       "      <th>0</th>\n",
       "      <td>정권교체</td>\n",
       "    </tr>\n",
       "    <tr>\n",
       "      <th>1</th>\n",
       "      <td>정치교체</td>\n",
       "    </tr>\n",
       "    <tr>\n",
       "      <th>2</th>\n",
       "      <td>시대교체</td>\n",
       "    </tr>\n",
       "    <tr>\n",
       "      <th>3</th>\n",
       "      <td>불비불명</td>\n",
       "    </tr>\n",
       "    <tr>\n",
       "      <th>4</th>\n",
       "      <td>고사</td>\n",
       "    </tr>\n",
       "    <tr>\n",
       "      <th>...</th>\n",
       "      <td>...</td>\n",
       "    </tr>\n",
       "    <tr>\n",
       "      <th>1408</th>\n",
       "      <td>모두</td>\n",
       "    </tr>\n",
       "    <tr>\n",
       "      <th>1409</th>\n",
       "      <td>주인</td>\n",
       "    </tr>\n",
       "    <tr>\n",
       "      <th>1410</th>\n",
       "      <td>진정한</td>\n",
       "    </tr>\n",
       "    <tr>\n",
       "      <th>1411</th>\n",
       "      <td>우리나라</td>\n",
       "    </tr>\n",
       "    <tr>\n",
       "      <th>1412</th>\n",
       "      <td>대통령</td>\n",
       "    </tr>\n",
       "  </tbody>\n",
       "</table>\n",
       "<p>1413 rows × 1 columns</p>\n",
       "</div>"
      ],
      "text/plain": [
       "      word\n",
       "0     정권교체\n",
       "1     정치교체\n",
       "2     시대교체\n",
       "3     불비불명\n",
       "4       고사\n",
       "...    ...\n",
       "1408    모두\n",
       "1409    주인\n",
       "1410   진정한\n",
       "1411  우리나라\n",
       "1412   대통령\n",
       "\n",
       "[1413 rows x 1 columns]"
      ]
     },
     "execution_count": 26,
     "metadata": {},
     "output_type": "execute_result"
    }
   ],
   "source": [
    "import pandas as pd\n",
    "df_word = pd.DataFrame({'word' : nouns})\n",
    "df_word"
   ]
  },
  {
   "cell_type": "markdown",
   "metadata": {},
   "source": [
    "- 단어 길이 컬럼추가"
   ]
  },
  {
   "cell_type": "code",
   "execution_count": 27,
   "metadata": {},
   "outputs": [
    {
     "data": {
      "text/html": [
       "<div>\n",
       "<style scoped>\n",
       "    .dataframe tbody tr th:only-of-type {\n",
       "        vertical-align: middle;\n",
       "    }\n",
       "\n",
       "    .dataframe tbody tr th {\n",
       "        vertical-align: top;\n",
       "    }\n",
       "\n",
       "    .dataframe thead th {\n",
       "        text-align: right;\n",
       "    }\n",
       "</style>\n",
       "<table border=\"1\" class=\"dataframe\">\n",
       "  <thead>\n",
       "    <tr style=\"text-align: right;\">\n",
       "      <th></th>\n",
       "      <th>word</th>\n",
       "      <th>len_word</th>\n",
       "    </tr>\n",
       "  </thead>\n",
       "  <tbody>\n",
       "    <tr>\n",
       "      <th>0</th>\n",
       "      <td>정권교체</td>\n",
       "      <td>4</td>\n",
       "    </tr>\n",
       "    <tr>\n",
       "      <th>1</th>\n",
       "      <td>정치교체</td>\n",
       "      <td>4</td>\n",
       "    </tr>\n",
       "    <tr>\n",
       "      <th>2</th>\n",
       "      <td>시대교체</td>\n",
       "      <td>4</td>\n",
       "    </tr>\n",
       "    <tr>\n",
       "      <th>3</th>\n",
       "      <td>불비불명</td>\n",
       "      <td>4</td>\n",
       "    </tr>\n",
       "    <tr>\n",
       "      <th>4</th>\n",
       "      <td>고사</td>\n",
       "      <td>2</td>\n",
       "    </tr>\n",
       "    <tr>\n",
       "      <th>...</th>\n",
       "      <td>...</td>\n",
       "      <td>...</td>\n",
       "    </tr>\n",
       "    <tr>\n",
       "      <th>1408</th>\n",
       "      <td>모두</td>\n",
       "      <td>2</td>\n",
       "    </tr>\n",
       "    <tr>\n",
       "      <th>1409</th>\n",
       "      <td>주인</td>\n",
       "      <td>2</td>\n",
       "    </tr>\n",
       "    <tr>\n",
       "      <th>1410</th>\n",
       "      <td>진정한</td>\n",
       "      <td>3</td>\n",
       "    </tr>\n",
       "    <tr>\n",
       "      <th>1411</th>\n",
       "      <td>우리나라</td>\n",
       "      <td>4</td>\n",
       "    </tr>\n",
       "    <tr>\n",
       "      <th>1412</th>\n",
       "      <td>대통령</td>\n",
       "      <td>3</td>\n",
       "    </tr>\n",
       "  </tbody>\n",
       "</table>\n",
       "<p>1413 rows × 2 columns</p>\n",
       "</div>"
      ],
      "text/plain": [
       "      word  len_word\n",
       "0     정권교체         4\n",
       "1     정치교체         4\n",
       "2     시대교체         4\n",
       "3     불비불명         4\n",
       "4       고사         2\n",
       "...    ...       ...\n",
       "1408    모두         2\n",
       "1409    주인         2\n",
       "1410   진정한         3\n",
       "1411  우리나라         4\n",
       "1412   대통령         3\n",
       "\n",
       "[1413 rows x 2 columns]"
      ]
     },
     "execution_count": 27,
     "metadata": {},
     "output_type": "execute_result"
    }
   ],
   "source": [
    "df_word['len_word'] = df_word['word'].str.len()\n",
    "df_word"
   ]
  },
  {
   "cell_type": "markdown",
   "metadata": {},
   "source": [
    "- 보통의 텍스트 마이닝을 하는 이유는 문단이나 문장에서 의미있는 단어 등을   뽑아 내려고 하기때문에 2문자 이상의 단어를 추출하는 경우가 많다."
   ]
  },
  {
   "cell_type": "code",
   "execution_count": 28,
   "metadata": {},
   "outputs": [
    {
     "data": {
      "text/html": [
       "<div>\n",
       "<style scoped>\n",
       "    .dataframe tbody tr th:only-of-type {\n",
       "        vertical-align: middle;\n",
       "    }\n",
       "\n",
       "    .dataframe tbody tr th {\n",
       "        vertical-align: top;\n",
       "    }\n",
       "\n",
       "    .dataframe thead th {\n",
       "        text-align: right;\n",
       "    }\n",
       "</style>\n",
       "<table border=\"1\" class=\"dataframe\">\n",
       "  <thead>\n",
       "    <tr style=\"text-align: right;\">\n",
       "      <th></th>\n",
       "      <th>word</th>\n",
       "      <th>len_word</th>\n",
       "    </tr>\n",
       "  </thead>\n",
       "  <tbody>\n",
       "    <tr>\n",
       "      <th>712</th>\n",
       "      <td>국민</td>\n",
       "      <td>2</td>\n",
       "    </tr>\n",
       "    <tr>\n",
       "      <th>1164</th>\n",
       "      <td>가사</td>\n",
       "      <td>2</td>\n",
       "    </tr>\n",
       "    <tr>\n",
       "      <th>1163</th>\n",
       "      <td>숙제</td>\n",
       "      <td>2</td>\n",
       "    </tr>\n",
       "    <tr>\n",
       "      <th>1162</th>\n",
       "      <td>평등</td>\n",
       "      <td>2</td>\n",
       "    </tr>\n",
       "    <tr>\n",
       "      <th>644</th>\n",
       "      <td>확대</td>\n",
       "      <td>2</td>\n",
       "    </tr>\n",
       "    <tr>\n",
       "      <th>...</th>\n",
       "      <td>...</td>\n",
       "      <td>...</td>\n",
       "    </tr>\n",
       "    <tr>\n",
       "      <th>707</th>\n",
       "      <td>평생학습체제</td>\n",
       "      <td>6</td>\n",
       "    </tr>\n",
       "    <tr>\n",
       "      <th>1268</th>\n",
       "      <td>군사대결지대</td>\n",
       "      <td>6</td>\n",
       "    </tr>\n",
       "    <tr>\n",
       "      <th>173</th>\n",
       "      <td>성적스트레스</td>\n",
       "      <td>6</td>\n",
       "    </tr>\n",
       "    <tr>\n",
       "      <th>978</th>\n",
       "      <td>고용영향평가제도</td>\n",
       "      <td>8</td>\n",
       "    </tr>\n",
       "    <tr>\n",
       "      <th>1055</th>\n",
       "      <td>국가일자리위원회</td>\n",
       "      <td>8</td>\n",
       "    </tr>\n",
       "  </tbody>\n",
       "</table>\n",
       "<p>1187 rows × 2 columns</p>\n",
       "</div>"
      ],
      "text/plain": [
       "          word  len_word\n",
       "712         국민         2\n",
       "1164        가사         2\n",
       "1163        숙제         2\n",
       "1162        평등         2\n",
       "644         확대         2\n",
       "...        ...       ...\n",
       "707     평생학습체제         6\n",
       "1268    군사대결지대         6\n",
       "173     성적스트레스         6\n",
       "978   고용영향평가제도         8\n",
       "1055  국가일자리위원회         8\n",
       "\n",
       "[1187 rows x 2 columns]"
      ]
     },
     "execution_count": 28,
     "metadata": {},
     "output_type": "execute_result"
    }
   ],
   "source": [
    "df_word = df_word.query('len_word >= 2')\n",
    "df_word.sort_values('len_word')"
   ]
  },
  {
   "cell_type": "code",
   "execution_count": 29,
   "metadata": {},
   "outputs": [
    {
     "data": {
      "text/html": [
       "<div>\n",
       "<style scoped>\n",
       "    .dataframe tbody tr th:only-of-type {\n",
       "        vertical-align: middle;\n",
       "    }\n",
       "\n",
       "    .dataframe tbody tr th {\n",
       "        vertical-align: top;\n",
       "    }\n",
       "\n",
       "    .dataframe thead th {\n",
       "        text-align: right;\n",
       "    }\n",
       "</style>\n",
       "<table border=\"1\" class=\"dataframe\">\n",
       "  <thead>\n",
       "    <tr style=\"text-align: right;\">\n",
       "      <th></th>\n",
       "      <th>word</th>\n",
       "      <th>n</th>\n",
       "    </tr>\n",
       "  </thead>\n",
       "  <tbody>\n",
       "    <tr>\n",
       "      <th>153</th>\n",
       "      <td>나라</td>\n",
       "      <td>19</td>\n",
       "    </tr>\n",
       "    <tr>\n",
       "      <th>462</th>\n",
       "      <td>일자리</td>\n",
       "      <td>19</td>\n",
       "    </tr>\n",
       "    <tr>\n",
       "      <th>116</th>\n",
       "      <td>국민</td>\n",
       "      <td>18</td>\n",
       "    </tr>\n",
       "    <tr>\n",
       "      <th>422</th>\n",
       "      <td>우리</td>\n",
       "      <td>17</td>\n",
       "    </tr>\n",
       "    <tr>\n",
       "      <th>198</th>\n",
       "      <td>대통령</td>\n",
       "      <td>12</td>\n",
       "    </tr>\n",
       "    <tr>\n",
       "      <th>...</th>\n",
       "      <td>...</td>\n",
       "      <td>...</td>\n",
       "    </tr>\n",
       "    <tr>\n",
       "      <th>278</th>\n",
       "      <td>북핵문제</td>\n",
       "      <td>1</td>\n",
       "    </tr>\n",
       "    <tr>\n",
       "      <th>279</th>\n",
       "      <td>분단</td>\n",
       "      <td>1</td>\n",
       "    </tr>\n",
       "    <tr>\n",
       "      <th>281</th>\n",
       "      <td>분야</td>\n",
       "      <td>1</td>\n",
       "    </tr>\n",
       "    <tr>\n",
       "      <th>283</th>\n",
       "      <td>분쟁</td>\n",
       "      <td>1</td>\n",
       "    </tr>\n",
       "    <tr>\n",
       "      <th>355</th>\n",
       "      <td>수천</td>\n",
       "      <td>1</td>\n",
       "    </tr>\n",
       "  </tbody>\n",
       "</table>\n",
       "<p>710 rows × 2 columns</p>\n",
       "</div>"
      ],
      "text/plain": [
       "     word   n\n",
       "153    나라  19\n",
       "462   일자리  19\n",
       "116    국민  18\n",
       "422    우리  17\n",
       "198   대통령  12\n",
       "..    ...  ..\n",
       "278  북핵문제   1\n",
       "279    분단   1\n",
       "281    분야   1\n",
       "283    분쟁   1\n",
       "355    수천   1\n",
       "\n",
       "[710 rows x 2 columns]"
      ]
     },
     "execution_count": 29,
     "metadata": {},
     "output_type": "execute_result"
    }
   ],
   "source": [
    "df_word=df_word.groupby('word',as_index=False) \\\n",
    "               .agg(n=('word','count')) \\\n",
    "               .sort_values('n',ascending=False)\n",
    "\n",
    "df_word"
   ]
  },
  {
   "cell_type": "markdown",
   "metadata": {},
   "source": [
    "### csv format 텍스트 마이닝"
   ]
  },
  {
   "cell_type": "code",
   "execution_count": 30,
   "metadata": {},
   "outputs": [],
   "source": [
    "df = pd.read_csv('../Data/news_comment_BTS.csv', encoding = 'UTF-8')"
   ]
  },
  {
   "cell_type": "code",
   "execution_count": 31,
   "metadata": {},
   "outputs": [
    {
     "name": "stdout",
     "output_type": "stream",
     "text": [
      "<class 'pandas.core.frame.DataFrame'>\n",
      "RangeIndex: 1200 entries, 0 to 1199\n",
      "Data columns (total 5 columns):\n",
      " #   Column    Non-Null Count  Dtype \n",
      "---  ------    --------------  ----- \n",
      " 0   reg_time  1200 non-null   object\n",
      " 1   reply     1200 non-null   object\n",
      " 2   press     1200 non-null   object\n",
      " 3   title     1200 non-null   object\n",
      " 4   url       1200 non-null   object\n",
      "dtypes: object(5)\n",
      "memory usage: 47.0+ KB\n"
     ]
    }
   ],
   "source": [
    "df.info()"
   ]
  },
  {
   "cell_type": "code",
   "execution_count": 32,
   "metadata": {},
   "outputs": [],
   "source": [
    "df['reply'] = df['reply'].str.replace('[^가-힣]', ' ', regex = True)"
   ]
  },
  {
   "cell_type": "code",
   "execution_count": 33,
   "metadata": {},
   "outputs": [],
   "source": [
    "kkma = konlpy.tag.Kkma()"
   ]
  },
  {
   "cell_type": "code",
   "execution_count": 34,
   "metadata": {},
   "outputs": [
    {
     "data": {
      "text/plain": [
       "0                                        [국보, 국보소년단, 소년단]\n",
       "1                                                   [아줌마]\n",
       "2                   [팩트, 팩트체크, 체크, 보드, 위, 방탄, 방탄소년단, 소년단]\n",
       "3              [방탄, 방탄소년단, 소년단, 한국, 한국사람, 사람, 자랑, 우리, 하자]\n",
       "4                                       [월드, 클래스, 소식, 응원]\n",
       "                              ...                        \n",
       "1195                                                   []\n",
       "1196                                      [우리, 탄, 자랑, 사랑]\n",
       "1197                                              [애, 군대]\n",
       "1198                                     [군, 군면제급, 면제, 급]\n",
       "1199    [자랑, 축하, 김, 김남, 남, 김석진, 민, 민윤기, 윤기, 정, 정호석, 호석...\n",
       "Name: reply, Length: 1200, dtype: object"
      ]
     },
     "execution_count": 34,
     "metadata": {},
     "output_type": "execute_result"
    }
   ],
   "source": [
    "nouns = df['reply'].apply(kkma.nouns)\n",
    "nouns"
   ]
  },
  {
   "cell_type": "code",
   "execution_count": 35,
   "metadata": {},
   "outputs": [
    {
     "data": {
      "text/plain": [
       "list"
      ]
     },
     "execution_count": 35,
     "metadata": {},
     "output_type": "execute_result"
    }
   ],
   "source": [
    "type(nouns[0])"
   ]
  },
  {
   "cell_type": "markdown",
   "metadata": {},
   "source": [
    "**리스트 형태의 object를 짤라서 하나의 row로 출력 explode()**"
   ]
  },
  {
   "cell_type": "code",
   "execution_count": 36,
   "metadata": {},
   "outputs": [
    {
     "data": {
      "text/html": [
       "<div>\n",
       "<style scoped>\n",
       "    .dataframe tbody tr th:only-of-type {\n",
       "        vertical-align: middle;\n",
       "    }\n",
       "\n",
       "    .dataframe tbody tr th {\n",
       "        vertical-align: top;\n",
       "    }\n",
       "\n",
       "    .dataframe thead th {\n",
       "        text-align: right;\n",
       "    }\n",
       "</style>\n",
       "<table border=\"1\" class=\"dataframe\">\n",
       "  <thead>\n",
       "    <tr style=\"text-align: right;\">\n",
       "      <th></th>\n",
       "      <th>word</th>\n",
       "      <th>count</th>\n",
       "    </tr>\n",
       "  </thead>\n",
       "  <tbody>\n",
       "    <tr>\n",
       "      <th>0</th>\n",
       "      <td>국보</td>\n",
       "      <td>2.0</td>\n",
       "    </tr>\n",
       "    <tr>\n",
       "      <th>0</th>\n",
       "      <td>국보소년단</td>\n",
       "      <td>5.0</td>\n",
       "    </tr>\n",
       "    <tr>\n",
       "      <th>0</th>\n",
       "      <td>소년단</td>\n",
       "      <td>3.0</td>\n",
       "    </tr>\n",
       "    <tr>\n",
       "      <th>1</th>\n",
       "      <td>아줌마</td>\n",
       "      <td>3.0</td>\n",
       "    </tr>\n",
       "    <tr>\n",
       "      <th>2</th>\n",
       "      <td>팩트</td>\n",
       "      <td>2.0</td>\n",
       "    </tr>\n",
       "    <tr>\n",
       "      <th>...</th>\n",
       "      <td>...</td>\n",
       "      <td>...</td>\n",
       "    </tr>\n",
       "    <tr>\n",
       "      <th>1199</th>\n",
       "      <td>박지</td>\n",
       "      <td>2.0</td>\n",
       "    </tr>\n",
       "    <tr>\n",
       "      <th>1199</th>\n",
       "      <td>박지민</td>\n",
       "      <td>3.0</td>\n",
       "    </tr>\n",
       "    <tr>\n",
       "      <th>1199</th>\n",
       "      <td>김태형</td>\n",
       "      <td>3.0</td>\n",
       "    </tr>\n",
       "    <tr>\n",
       "      <th>1199</th>\n",
       "      <td>전정국</td>\n",
       "      <td>3.0</td>\n",
       "    </tr>\n",
       "    <tr>\n",
       "      <th>1199</th>\n",
       "      <td>정국</td>\n",
       "      <td>2.0</td>\n",
       "    </tr>\n",
       "  </tbody>\n",
       "</table>\n",
       "<p>7002 rows × 2 columns</p>\n",
       "</div>"
      ],
      "text/plain": [
       "       word  count\n",
       "0        국보    2.0\n",
       "0     국보소년단    5.0\n",
       "0       소년단    3.0\n",
       "1       아줌마    3.0\n",
       "2        팩트    2.0\n",
       "...     ...    ...\n",
       "1199     박지    2.0\n",
       "1199    박지민    3.0\n",
       "1199    김태형    3.0\n",
       "1199    전정국    3.0\n",
       "1199     정국    2.0\n",
       "\n",
       "[7002 rows x 2 columns]"
      ]
     },
     "execution_count": 36,
     "metadata": {},
     "output_type": "execute_result"
    }
   ],
   "source": [
    "nouns = nouns.explode()\n",
    "df_word = pd.DataFrame({'word' : nouns})\n",
    "df_word['count'] = df_word['word'].str.len()\n",
    "df_word = df_word.query('count >= 2')\n",
    "df_word\n"
   ]
  },
  {
   "cell_type": "markdown",
   "metadata": {},
   "source": [
    "- 단어빈도 조사"
   ]
  },
  {
   "cell_type": "code",
   "execution_count": 38,
   "metadata": {},
   "outputs": [
    {
     "data": {
      "text/html": [
       "<div>\n",
       "<style scoped>\n",
       "    .dataframe tbody tr th:only-of-type {\n",
       "        vertical-align: middle;\n",
       "    }\n",
       "\n",
       "    .dataframe tbody tr th {\n",
       "        vertical-align: top;\n",
       "    }\n",
       "\n",
       "    .dataframe thead th {\n",
       "        text-align: right;\n",
       "    }\n",
       "</style>\n",
       "<table border=\"1\" class=\"dataframe\">\n",
       "  <thead>\n",
       "    <tr style=\"text-align: right;\">\n",
       "      <th></th>\n",
       "      <th>word</th>\n",
       "      <th>n</th>\n",
       "    </tr>\n",
       "  </thead>\n",
       "  <tbody>\n",
       "    <tr>\n",
       "      <th>752</th>\n",
       "      <td>방탄</td>\n",
       "      <td>280</td>\n",
       "    </tr>\n",
       "    <tr>\n",
       "      <th>1878</th>\n",
       "      <td>축하</td>\n",
       "      <td>236</td>\n",
       "    </tr>\n",
       "    <tr>\n",
       "      <th>1556</th>\n",
       "      <td>자랑</td>\n",
       "      <td>205</td>\n",
       "    </tr>\n",
       "    <tr>\n",
       "      <th>1032</th>\n",
       "      <td>소년단</td>\n",
       "      <td>144</td>\n",
       "    </tr>\n",
       "    <tr>\n",
       "      <th>763</th>\n",
       "      <td>방탄소년단</td>\n",
       "      <td>136</td>\n",
       "    </tr>\n",
       "    <tr>\n",
       "      <th>...</th>\n",
       "      <td>...</td>\n",
       "      <td>...</td>\n",
       "    </tr>\n",
       "    <tr>\n",
       "      <th>1136</th>\n",
       "      <td>실력있음</td>\n",
       "      <td>1</td>\n",
       "    </tr>\n",
       "    <tr>\n",
       "      <th>406</th>\n",
       "      <td>다음주면</td>\n",
       "      <td>1</td>\n",
       "    </tr>\n",
       "    <tr>\n",
       "      <th>1134</th>\n",
       "      <td>신화</td>\n",
       "      <td>1</td>\n",
       "    </tr>\n",
       "    <tr>\n",
       "      <th>1133</th>\n",
       "      <td>신중</td>\n",
       "      <td>1</td>\n",
       "    </tr>\n",
       "    <tr>\n",
       "      <th>1084</th>\n",
       "      <td>스을적</td>\n",
       "      <td>1</td>\n",
       "    </tr>\n",
       "  </tbody>\n",
       "</table>\n",
       "<p>2168 rows × 2 columns</p>\n",
       "</div>"
      ],
      "text/plain": [
       "       word    n\n",
       "752      방탄  280\n",
       "1878     축하  236\n",
       "1556     자랑  205\n",
       "1032    소년단  144\n",
       "763   방탄소년단  136\n",
       "...     ...  ...\n",
       "1136   실력있음    1\n",
       "406    다음주면    1\n",
       "1134     신화    1\n",
       "1133     신중    1\n",
       "1084    스을적    1\n",
       "\n",
       "[2168 rows x 2 columns]"
      ]
     },
     "execution_count": 38,
     "metadata": {},
     "output_type": "execute_result"
    }
   ],
   "source": [
    "df_word = df_word.groupby('word', as_index = False) \\\n",
    "                 .agg(n = ('word', 'count')) \\\n",
    "                 .sort_values('n', ascending = False)\n",
    "df_word"
   ]
  }
 ],
 "metadata": {
  "kernelspec": {
   "display_name": "base",
   "language": "python",
   "name": "python3"
  },
  "language_info": {
   "codemirror_mode": {
    "name": "ipython",
    "version": 3
   },
   "file_extension": ".py",
   "mimetype": "text/x-python",
   "name": "python",
   "nbconvert_exporter": "python",
   "pygments_lexer": "ipython3",
   "version": "3.9.13"
  }
 },
 "nbformat": 4,
 "nbformat_minor": 2
}
