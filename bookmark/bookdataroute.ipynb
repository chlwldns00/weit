{
 "cells": [
  {
   "cell_type": "markdown",
   "metadata": {},
   "source": [
    "exam.csv 경로"
   ]
  },
  {
   "cell_type": "code",
   "execution_count": null,
   "metadata": {},
   "outputs": [],
   "source": [
    "df_csv_exam = pd.read_csv('D:/WE_IT/doit/bookdata/exam.csv')\n",
    "df_csv_exam"
   ]
  },
  {
   "cell_type": "markdown",
   "metadata": {},
   "source": [
    "excel_exam 경로"
   ]
  },
  {
   "cell_type": "code",
   "execution_count": null,
   "metadata": {},
   "outputs": [],
   "source": [
    "df_exam = pd.read_excel('D:/WE_IT/doit/bookdata/excel_exam.xlsx')\n",
    "df_exam"
   ]
  },
  {
   "cell_type": "markdown",
   "metadata": {},
   "source": [
    "excel_exam_novar 경로"
   ]
  },
  {
   "cell_type": "code",
   "execution_count": null,
   "metadata": {},
   "outputs": [],
   "source": [
    "df_exam_novar = pd.read_excel('D:/WE_IT/doit/bookdata/excel_exam_novar.xlsx')\n",
    "df_exam_novar"
   ]
  },
  {
   "cell_type": "markdown",
   "metadata": {},
   "source": [
    "mpg 경로"
   ]
  },
  {
   "cell_type": "code",
   "execution_count": null,
   "metadata": {},
   "outputs": [],
   "source": [
    "mpg = pd.read_csv('D:/WE_IT/doit/bookdata/mpg.csv')\n",
    "mpg"
   ]
  },
  {
   "cell_type": "markdown",
   "metadata": {},
   "source": [
    "economics 경로"
   ]
  },
  {
   "cell_type": "code",
   "execution_count": null,
   "metadata": {},
   "outputs": [],
   "source": [
    "economics = pd.read_csv('D:/WE_IT/doit/bookdata/economics.csv')"
   ]
  }
 ],
 "metadata": {
  "language_info": {
   "name": "python"
  }
 },
 "nbformat": 4,
 "nbformat_minor": 2
}
