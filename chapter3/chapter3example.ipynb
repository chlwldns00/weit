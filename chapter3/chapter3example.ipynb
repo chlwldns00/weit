{
 "cells": [
  {
   "cell_type": "code",
   "execution_count": 1,
   "id": "20d3efcb-3014-41c6-9c38-b82b9bdc5e88",
   "metadata": {},
   "outputs": [
    {
     "data": {
      "text/plain": [
       "[80, 60, 70, 50, 90]"
      ]
     },
     "execution_count": 1,
     "metadata": {},
     "output_type": "execute_result"
    }
   ],
   "source": [
    "score = [80, 60, 70, 50, 90]\n",
    "score"
   ]
  },
  {
   "cell_type": "code",
   "execution_count": 2,
   "id": "85c5aac6-f58b-4fd8-b735-0614e518715e",
   "metadata": {},
   "outputs": [
    {
     "data": {
      "text/plain": [
       "350"
      ]
     },
     "execution_count": 2,
     "metadata": {},
     "output_type": "execute_result"
    }
   ],
   "source": [
    "sum(score)"
   ]
  },
  {
   "cell_type": "code",
   "execution_count": 3,
   "id": "8b7fb897-1f21-469a-8c13-d3a738903ccb",
   "metadata": {},
   "outputs": [
    {
     "data": {
      "text/plain": [
       "350"
      ]
     },
     "execution_count": 3,
     "metadata": {},
     "output_type": "execute_result"
    }
   ],
   "source": [
    "sum_score = sum(score)\n",
    "sum_score"
   ]
  }
 ],
 "metadata": {
  "kernelspec": {
   "display_name": "Python 3 (ipykernel)",
   "language": "python",
   "name": "python3"
  },
  "language_info": {
   "codemirror_mode": {
    "name": "ipython",
    "version": 3
   },
   "file_extension": ".py",
   "mimetype": "text/x-python",
   "name": "python",
   "nbconvert_exporter": "python",
   "pygments_lexer": "ipython3",
   "version": "3.11.7"
  }
 },
 "nbformat": 4,
 "nbformat_minor": 5
}
